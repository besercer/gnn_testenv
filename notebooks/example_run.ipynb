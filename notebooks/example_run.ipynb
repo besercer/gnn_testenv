{
 "cells": [
  {
   "cell_type": "code",
   "execution_count": null,
   "metadata": {},
   "outputs": [],
   "source": [
    "%load_ext autoreload\n",
    "%autoreload 2\n",
    "from benchmark.preprocess import *\n",
    "from benchmark.constants import *\n",
    "from benchmark.db_import import *\n",
    "from benchmark.ground_truth import *\n",
    "from benchmark.construct_threatrace_graph import *\n",
    "from benchmark.threatrace import *\n",
    "import logging \n",
    "from torch_geometric import seed_everything\n",
    "import os\n",
    "import configparser\n",
    "from patricks_modul import PatricksLog\n",
    "logging.basicConfig(\n",
    "    format='%(asctime)s - %(levelname)s - %(message)s',\n",
    "    level=logging.INFO,\n",
    "    filename='app.log',\n",
    "    #filemode='w'\n",
    "    filemode='a',\n",
    ")\n",
    "logging.info('This will get logged to a file')\n",
    "\n",
    "\n",
    "\n",
    "patricks_log = PatricksLog('sagegcngat_0')"
   ]
  },
  {
   "cell_type": "code",
   "execution_count": null,
   "metadata": {},
   "outputs": [],
   "source": [
    "project_dir = os.getcwd()\n",
    "print(\"Current project directory: \", project_dir)\n",
    "patricks_log.write_kv_to_file('Current project directory', project_dir)"
   ]
  },
  {
   "cell_type": "code",
   "execution_count": null,
   "metadata": {},
   "outputs": [],
   "source": [
    "# Read config file\n",
    "config_dir = \"../configs\"\n",
    "config_file_record_03 = config_dir + '/eng3/cadets/cadets_03_record.ini'\n",
    "config_rec3 = configparser.ConfigParser()\n",
    "config_rec3.read(config_file_record_03)"
   ]
  },
  {
   "cell_type": "code",
   "execution_count": null,
   "metadata": {},
   "outputs": [],
   "source": [
    "# read tar file and extract to a folder + preprocess\n",
    "process_darpa_data(config_rec3)\n"
   ]
  },
  {
   "cell_type": "code",
   "execution_count": null,
   "metadata": {},
   "outputs": [],
   "source": [
    "#setup and import data to mariaDB \n",
    "import_nodes_and_edges(config_rec3)"
   ]
  },
  {
   "cell_type": "code",
   "execution_count": null,
   "metadata": {},
   "outputs": [],
   "source": [
    "print(config_rec3['threatrace'])"
   ]
  },
  {
   "cell_type": "code",
   "execution_count": null,
   "metadata": {},
   "outputs": [],
   "source": [
    "own_timestamp_percent=20\n",
    "patricks_log.write_kv_to_file('Test/Train split', own_timestamp_percent)\n",
    "# create train and test data\n",
    "mypygdata = MyPyGDataset(config_rec3, own_timestamp_percent, extension=\"20percentTrain\") # 4min\n",
    "data_train = mypygdata[0][0]\n",
    "data_test = mypygdata[0][1]\n",
    "print('Data_train:')\n",
    "print(data_train)\n",
    "print('Data_train_x: ')\n",
    "print(data_train['x'][:1])\n",
    "print('Data_train_edge_index: ')\n",
    "print(data_train['edge_index'][:2])\n",
    "print('Verteilung Train', np.bincount(data_train['y']))\n",
    "print('Data_test: ')\n",
    "print(data_test)\n",
    "print('Verteilung Test', np.bincount(data_test['y']))\n",
    "patricks_log.write_div_to_file()\n",
    "patricks_log.write_kv_to_file('Data_train size of x / features', str(list(data_train.x.size())))\n",
    "patricks_log.write_kv_to_file('Data_train size of edge_index', str(list(data_train.edge_index.size())))\n",
    "patricks_log.write_kv_to_file('Data_train size of y', str(list(data_train.y.size())))\n",
    "patricks_log.write_kv_to_file('Data_train distribution of y', str(np.bincount(data_train['y'])))\n",
    "patricks_log.write_kv_to_file('Data_train size of train_mask / test_mask', str(list(data_train.train_mask.size())) + str(list(data_train.test_mask.size())))\n",
    "patricks_log.write_to_file('')\n",
    "patricks_log.write_kv_to_file('Data_test size of x / features', str(list(data_test.x.size())))\n",
    "patricks_log.write_kv_to_file('Data_test size of edge_index', str(list(data_test.edge_index.size())))\n",
    "patricks_log.write_kv_to_file('Data_test size of y', str(list(data_test.y.size())))\n",
    "patricks_log.write_kv_to_file('Data_test distribution of y', str(np.bincount(data_test['y'])))\n",
    "patricks_log.write_kv_to_file('Data_test size of train_mask / test_mask', str(list(data_test.train_mask.size())) + str(list(data_test.test_mask.size())))\n",
    "patricks_log.save_time_since_start()\n",
    "patricks_log.write_div_to_file()"
   ]
  },
  {
   "cell_type": "code",
   "execution_count": null,
   "metadata": {},
   "outputs": [],
   "source": [
    "# create ground truth\n",
    "gt_filename = 'gt.txt'\n",
    "gt_load = True\n",
    "\n",
    "if gt_load and os.path.exists(gt_filename):\n",
    "    with open(gt_filename, 'r') as file:\n",
    "        gt = [int(x) for x in file.readline().split()]\n",
    "else:\n",
    "    gt_file1 = config_rec3['Files']['ground_truth'] # -> special case for record3, because here 2 attacks are given \n",
    "    gt_file2 = config_rec3['Files']['ground_truth1'] # -> special case for record3, because here 2 attacks are given \n",
    "    gts = [gt_file1, gt_file2]\n",
    "    gt = get_atk_nodes_for_evaluation(config_rec3, multi=True, gts=gts) # -> list with id´s [526, 524824, 537, 262769, ...]\n",
    "\n",
    "    with open(gt_filename, 'w') as file:\n",
    "        file.write(' '.join(map(str, gt)))\n",
    "\n",
    "print(len(gt))"
   ]
  },
  {
   "cell_type": "code",
   "execution_count": null,
   "metadata": {},
   "outputs": [],
   "source": [
    "# create threatrace GNN anomaly detection Pipeline \n",
    "ttp = ThreaTracePipeline(config_rec3, data_train, data_test, patricks_log) \n",
    "patricks_log.save_time_since_start()"
   ]
  },
  {
   "cell_type": "code",
   "execution_count": null,
   "metadata": {},
   "outputs": [],
   "source": [
    "ttp.delete_old_models()\n",
    "patricks_log.write_to_file('### PRETRAINING ### - wird nichtgesaved')\n",
    "ttp.pretraining()\n",
    "patricks_log.save_time_since_start()"
   ]
  },
  {
   "cell_type": "code",
   "execution_count": null,
   "metadata": {},
   "outputs": [],
   "source": [
    "patricks_log.write_to_file('\\n### MULTI MODEL TRAINING ###')\n",
    "ttp.multi_model_training()\n",
    "patricks_log.save_time_since_start()"
   ]
  },
  {
   "cell_type": "code",
   "execution_count": null,
   "metadata": {},
   "outputs": [],
   "source": [
    "print(\"##############################################################################################################\")\n",
    "print(\"own evaluation\")\n",
    "print(\"##############################################################################################################\")\n",
    "patricks_log.write_to_file('\\n### OWN EVALUATION ### - Jedes Model mit dem Test Datensatz testen')\n",
    "ttp.reinit_test_data() \n",
    "ttp.test_model_performance(gt) \n",
    "patricks_log.save_time_since_start()"
   ]
  },
  {
   "cell_type": "code",
   "execution_count": null,
   "metadata": {},
   "outputs": [],
   "source": [
    "print(\"##############################################################################################################\")\n",
    "print(\"0 HOP\")\n",
    "patricks_log.write_to_file('\\n### 0 HOP ###')\n",
    "hits = ttp.evaluation_single_hop(gt)\n",
    "patricks_log.save_time_since_start()"
   ]
  },
  {
   "cell_type": "code",
   "execution_count": null,
   "metadata": {},
   "outputs": [],
   "source": [
    "print(\"##############################################################################################################\")\n",
    "print(\"1 HOP\")\n",
    "patricks_log.write_to_file('\\n### 1 HOP ###')\n",
    "hits = ttp.evaluation(gt, 1)\n",
    "patricks_log.save_time_since_start()"
   ]
  },
  {
   "cell_type": "code",
   "execution_count": null,
   "metadata": {},
   "outputs": [],
   "source": [
    "print(\"##############################################################################################################\")\n",
    "print(\"2 HOP\")\n",
    "patricks_log.write_to_file('\\n### 2 HOP ###')\n",
    "hits = ttp.evaluation(gt, 2)\n",
    "patricks_log.save_time_since_start()"
   ]
  },
  {
   "cell_type": "code",
   "execution_count": null,
   "metadata": {},
   "outputs": [],
   "source": [
    "print(\"##############################################################################################################\")\n",
    "print(\"Detection insights\")\n",
    "x = ttp.get_detection_insights()\n",
    "patricks_log.save_time_since_start()"
   ]
  }
 ],
 "metadata": {
  "kernelspec": {
   "display_name": "pyg3",
   "language": "python",
   "name": "python3"
  },
  "language_info": {
   "codemirror_mode": {
    "name": "ipython",
    "version": 3
   },
   "file_extension": ".py",
   "mimetype": "text/x-python",
   "name": "python",
   "nbconvert_exporter": "python",
   "pygments_lexer": "ipython3",
   "version": "3.10.9"
  },
  "orig_nbformat": 4
 },
 "nbformat": 4,
 "nbformat_minor": 2
}
